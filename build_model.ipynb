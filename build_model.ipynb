{
 "cells": [
  {
   "cell_type": "code",
   "execution_count": 1,
   "metadata": {},
   "outputs": [
    {
     "name": "stderr",
     "output_type": "stream",
     "text": [
      "2023-10-16 06:33:07.726676: I tensorflow/tsl/cuda/cudart_stub.cc:28] Could not find cuda drivers on your machine, GPU will not be used.\n",
      "2023-10-16 06:33:07.855826: I tensorflow/tsl/cuda/cudart_stub.cc:28] Could not find cuda drivers on your machine, GPU will not be used.\n",
      "2023-10-16 06:33:07.858273: I tensorflow/core/platform/cpu_feature_guard.cc:182] This TensorFlow binary is optimized to use available CPU instructions in performance-critical operations.\n",
      "To enable the following instructions: AVX2 FMA, in other operations, rebuild TensorFlow with the appropriate compiler flags.\n",
      "2023-10-16 06:33:09.707667: W tensorflow/compiler/tf2tensorrt/utils/py_utils.cc:38] TF-TRT Warning: Could not find TensorRT\n"
     ]
    }
   ],
   "source": [
    "# importing libraries\n",
    "\n",
    "import os\n",
    "import numpy as np\n",
    "import tensorflow as tf\n",
    "from tensorflow import keras\n",
    "from tensorflow.keras.layers import Conv2D, MaxPooling2D, Flatten, Dense\n",
    "from sklearn.model_selection import train_test_split\n",
    "from tensorflow.keras.preprocessing.image import ImageDataGenerator"
   ]
  },
  {
   "cell_type": "code",
   "execution_count": 2,
   "metadata": {},
   "outputs": [],
   "source": [
    "# Directory containing your MRI images with 'tumor' and 'no_tumor' subdirectories\n",
    "data_dir = \"./data/train\"\n"
   ]
  },
  {
   "cell_type": "code",
   "execution_count": 3,
   "metadata": {},
   "outputs": [],
   "source": [
    "# Function to load and preprocess your MRI dataset\n",
    "def load_and_preprocess_data(data_dir, target_size=(150, 150), batch_size=32):\n",
    "    # Create an ImageDataGenerator for data augmentation and preprocessing\n",
    "    datagen = ImageDataGenerator(\n",
    "        rescale=1.0 / 255.0,  # Normalize pixel values\n",
    "        rotation_range=15,  # Augmentation: Randomly rotate images\n",
    "        width_shift_range=0.1,  # Augmentation: Randomly shift width\n",
    "        height_shift_range=0.1,  # Augmentation: Randomly shift height\n",
    "        shear_range=0.2,  # Augmentation: Randomly shear images\n",
    "        zoom_range=0.2,  # Augmentation: Randomly zoom images\n",
    "        horizontal_flip=True,  # Augmentation: Randomly flip images horizontally\n",
    "    )\n",
    "\n",
    "    # Load and preprocess the training data\n",
    "    train_data_generator = datagen.flow_from_directory(\n",
    "        data_dir,\n",
    "        target_size=target_size,  # Resize images to a common size\n",
    "        batch_size=batch_size,\n",
    "        class_mode=\"binary\",  # Assuming two classes: 'tumor' and 'no_tumor'\n",
    "        subset=\"training\",  # You can further split this into training and validation\n",
    "    )\n",
    "\n",
    "    return train_data_generator\n"
   ]
  },
  {
   "cell_type": "code",
   "execution_count": 4,
   "metadata": {},
   "outputs": [
    {
     "name": "stdout",
     "output_type": "stream",
     "text": [
      "Found 253 images belonging to 2 classes.\n"
     ]
    }
   ],
   "source": [
    "# Load and preprocess the MRI data\n",
    "train_data_generator = load_and_preprocess_data(data_dir)\n",
    "\n",
    "# Define the CNN model\n",
    "model = keras.Sequential(\n",
    "    [\n",
    "        Conv2D(32, (3, 3), activation=\"relu\", input_shape=(150, 150, 3)),\n",
    "        MaxPooling2D((2, 2)),\n",
    "        Conv2D(64, (3, 3), activation=\"relu\"),\n",
    "        MaxPooling2D((2, 2)),\n",
    "        Conv2D(128, (3, 3), activation=\"relu\"),\n",
    "        MaxPooling2D((2, 2)),\n",
    "        Flatten(),\n",
    "        Dense(128, activation=\"relu\"),\n",
    "        Dense(1, activation=\"sigmoid\"),\n",
    "    ]\n",
    ")"
   ]
  },
  {
   "cell_type": "code",
   "execution_count": 5,
   "metadata": {},
   "outputs": [],
   "source": [
    "# Compile the model\n",
    "model.compile(optimizer=\"adam\", loss=\"binary_crossentropy\", metrics=[\"accuracy\"])\n"
   ]
  },
  {
   "cell_type": "code",
   "execution_count": 6,
   "metadata": {},
   "outputs": [
    {
     "name": "stdout",
     "output_type": "stream",
     "text": [
      "Epoch 1/10\n"
     ]
    },
    {
     "name": "stderr",
     "output_type": "stream",
     "text": [
      "2023-10-16 06:34:05.567011: I tensorflow/core/common_runtime/executor.cc:1197] [/device:CPU:0] (DEBUG INFO) Executor start aborting (this does not indicate an error and you can ignore this message): INVALID_ARGUMENT: You must feed a value for placeholder tensor 'Placeholder/_0' with dtype int32\n",
      "\t [[{{node Placeholder/_0}}]]\n",
      "2023-10-16 06:34:08.437367: W tensorflow/tsl/framework/cpu_allocator_impl.cc:83] Allocation of 89718784 exceeds 10% of free system memory.\n",
      "2023-10-16 06:34:08.555115: W tensorflow/tsl/framework/cpu_allocator_impl.cc:83] Allocation of 42467328 exceeds 10% of free system memory.\n",
      "2023-10-16 06:34:09.218889: W tensorflow/tsl/framework/cpu_allocator_impl.cc:83] Allocation of 42467328 exceeds 10% of free system memory.\n",
      "2023-10-16 06:34:09.676077: W tensorflow/tsl/framework/cpu_allocator_impl.cc:83] Allocation of 44859392 exceeds 10% of free system memory.\n",
      "2023-10-16 06:34:09.677113: W tensorflow/tsl/framework/cpu_allocator_impl.cc:83] Allocation of 89718784 exceeds 10% of free system memory.\n"
     ]
    },
    {
     "name": "stdout",
     "output_type": "stream",
     "text": [
      "8/8 [==============================] - 14s 1s/step - loss: 0.7232 - accuracy: 0.5731\n",
      "Epoch 2/10\n",
      "8/8 [==============================] - 11s 1s/step - loss: 0.6315 - accuracy: 0.6443\n",
      "Epoch 3/10\n",
      "8/8 [==============================] - 9s 1s/step - loss: 0.6122 - accuracy: 0.6759\n",
      "Epoch 4/10\n",
      "8/8 [==============================] - 10s 1s/step - loss: 0.5736 - accuracy: 0.7233\n",
      "Epoch 5/10\n",
      "8/8 [==============================] - 10s 1s/step - loss: 0.5508 - accuracy: 0.7668\n",
      "Epoch 6/10\n",
      "8/8 [==============================] - 10s 1s/step - loss: 0.5328 - accuracy: 0.7312\n",
      "Epoch 7/10\n",
      "8/8 [==============================] - 10s 1s/step - loss: 0.5277 - accuracy: 0.7391\n",
      "Epoch 8/10\n",
      "8/8 [==============================] - 10s 1s/step - loss: 0.5225 - accuracy: 0.7668\n",
      "Epoch 9/10\n",
      "8/8 [==============================] - 9s 1s/step - loss: 0.4855 - accuracy: 0.7708\n",
      "Epoch 10/10\n",
      "8/8 [==============================] - 9s 1s/step - loss: 0.5260 - accuracy: 0.7708\n"
     ]
    },
    {
     "data": {
      "text/plain": [
       "<keras.callbacks.History at 0x7f0798573940>"
      ]
     },
     "execution_count": 6,
     "metadata": {},
     "output_type": "execute_result"
    }
   ],
   "source": [
    "# Train the model\n",
    "model.fit(\n",
    "    train_data_generator, epochs=10, validation_data=None\n",
    ")  # Pass validation_data for validation\n"
   ]
  },
  {
   "cell_type": "code",
   "execution_count": 7,
   "metadata": {},
   "outputs": [],
   "source": [
    "# Save the model\n",
    "model.save(\"model.h5\")\n"
   ]
  }
 ],
 "metadata": {
  "kernelspec": {
   "display_name": "Python 3",
   "language": "python",
   "name": "python3"
  },
  "language_info": {
   "codemirror_mode": {
    "name": "ipython",
    "version": 3
   },
   "file_extension": ".py",
   "mimetype": "text/x-python",
   "name": "python",
   "nbconvert_exporter": "python",
   "pygments_lexer": "ipython3",
   "version": "3.10.12"
  }
 },
 "nbformat": 4,
 "nbformat_minor": 2
}
